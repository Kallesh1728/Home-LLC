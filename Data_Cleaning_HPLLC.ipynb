{
 "cells": [
  {
   "cell_type": "markdown",
   "metadata": {
    "id": "r-SQ3eGtkqOq"
   },
   "source": [
    "## Data Cleaning"
   ]
  },
  {
   "cell_type": "code",
   "execution_count": 1,
   "metadata": {
    "id": "Dl0jiavw9XrX"
   },
   "outputs": [],
   "source": [
    "import pandas as pd\n",
    "import os"
   ]
  },
  {
   "cell_type": "code",
   "execution_count": 2,
   "metadata": {
    "id": "hj7Xu7712962"
   },
   "outputs": [],
   "source": [
    "# Creating Directory Cleaned data for storing cleaned data\n",
    "\n",
    "directory_path = \"Cleaned data\"\n",
    "os.makedirs(directory_path, exist_ok=True)"
   ]
  },
  {
   "cell_type": "markdown",
   "metadata": {
    "id": "7i7PZSXsOX0V"
   },
   "source": [
    " ### Target\n",
    "\n",
    " #### S&P/Case-Shiller U.S. National Home Price Index"
   ]
  },
  {
   "cell_type": "code",
   "execution_count": 3,
   "metadata": {
    "id": "K9lObqVzJX1h"
   },
   "outputs": [],
   "source": [
    "# Reading target data\n",
    "target = pd.read_csv(\"CSUSHPISA.csv\")"
   ]
  },
  {
   "cell_type": "code",
   "execution_count": 4,
   "metadata": {
    "colab": {
     "base_uri": "https://localhost:8080/",
     "height": 206
    },
    "id": "3OFEXaLvJuSG",
    "outputId": "e215c396-1a19-4caa-8bca-71ae6b51bbea"
   },
   "outputs": [
    {
     "data": {
      "text/html": [
       "<div>\n",
       "<style scoped>\n",
       "    .dataframe tbody tr th:only-of-type {\n",
       "        vertical-align: middle;\n",
       "    }\n",
       "\n",
       "    .dataframe tbody tr th {\n",
       "        vertical-align: top;\n",
       "    }\n",
       "\n",
       "    .dataframe thead th {\n",
       "        text-align: right;\n",
       "    }\n",
       "</style>\n",
       "<table border=\"1\" class=\"dataframe\">\n",
       "  <thead>\n",
       "    <tr style=\"text-align: right;\">\n",
       "      <th></th>\n",
       "      <th>DATE</th>\n",
       "      <th>CSUSHPISA</th>\n",
       "    </tr>\n",
       "  </thead>\n",
       "  <tbody>\n",
       "    <tr>\n",
       "      <th>0</th>\n",
       "      <td>1987-01-01</td>\n",
       "      <td>63.965</td>\n",
       "    </tr>\n",
       "    <tr>\n",
       "      <th>1</th>\n",
       "      <td>1987-02-01</td>\n",
       "      <td>64.424</td>\n",
       "    </tr>\n",
       "    <tr>\n",
       "      <th>2</th>\n",
       "      <td>1987-03-01</td>\n",
       "      <td>64.736</td>\n",
       "    </tr>\n",
       "    <tr>\n",
       "      <th>3</th>\n",
       "      <td>1987-04-01</td>\n",
       "      <td>65.132</td>\n",
       "    </tr>\n",
       "    <tr>\n",
       "      <th>4</th>\n",
       "      <td>1987-05-01</td>\n",
       "      <td>65.563</td>\n",
       "    </tr>\n",
       "  </tbody>\n",
       "</table>\n",
       "</div>"
      ],
      "text/plain": [
       "         DATE  CSUSHPISA\n",
       "0  1987-01-01     63.965\n",
       "1  1987-02-01     64.424\n",
       "2  1987-03-01     64.736\n",
       "3  1987-04-01     65.132\n",
       "4  1987-05-01     65.563"
      ]
     },
     "execution_count": 4,
     "metadata": {},
     "output_type": "execute_result"
    }
   ],
   "source": [
    "target.head()"
   ]
  },
  {
   "cell_type": "code",
   "execution_count": 5,
   "metadata": {
    "id": "9sx654fNJxhT"
   },
   "outputs": [],
   "source": [
    "# Setting DATE as index, column renaming, setting DATE as index, filtering data from \"2003-09-01\":\"2023-09-01\".\n",
    "\n",
    "target.set_index('DATE', inplace =True)\n",
    "target.rename(columns= {'CSUSHPINSA': 'target'}, inplace =True)\n",
    "target.index = pd.to_datetime(target.index)\n",
    "target = target[\"2003-09-01\":\"2023-09-01\"]"
   ]
  },
  {
   "cell_type": "code",
   "execution_count": 6,
   "metadata": {
    "colab": {
     "base_uri": "https://localhost:8080/"
    },
    "id": "bxC7D7AAMZIJ",
    "outputId": "5d51e914-5035-425b-f36a-c500eafc3168"
   },
   "outputs": [
    {
     "data": {
      "text/plain": [
       "(241, 1)"
      ]
     },
     "execution_count": 6,
     "metadata": {},
     "output_type": "execute_result"
    }
   ],
   "source": [
    "target.shape"
   ]
  },
  {
   "cell_type": "code",
   "execution_count": 7,
   "metadata": {
    "id": "u6TEkEKN3Pt2"
   },
   "outputs": [],
   "source": [
    "target.to_csv(\"Cleaned data/target.csv\")"
   ]
  },
  {
   "cell_type": "markdown",
   "metadata": {
    "id": "ySLXQ3xuOoFS"
   },
   "source": [
    "### Population\n",
    "\n",
    "#### Population includes resident population plus armed forces overseas."
   ]
  },
  {
   "cell_type": "code",
   "execution_count": 8,
   "metadata": {
    "id": "eB54EFabOT2Q"
   },
   "outputs": [],
   "source": [
    "population = pd.read_csv('POP.csv')"
   ]
  },
  {
   "cell_type": "code",
   "execution_count": 9,
   "metadata": {
    "colab": {
     "base_uri": "https://localhost:8080/",
     "height": 206
    },
    "id": "loi2NkyGPIPD",
    "outputId": "0b94a4b9-24e9-4717-d152-3ee0cde1425c"
   },
   "outputs": [
    {
     "data": {
      "text/html": [
       "<div>\n",
       "<style scoped>\n",
       "    .dataframe tbody tr th:only-of-type {\n",
       "        vertical-align: middle;\n",
       "    }\n",
       "\n",
       "    .dataframe tbody tr th {\n",
       "        vertical-align: top;\n",
       "    }\n",
       "\n",
       "    .dataframe thead th {\n",
       "        text-align: right;\n",
       "    }\n",
       "</style>\n",
       "<table border=\"1\" class=\"dataframe\">\n",
       "  <thead>\n",
       "    <tr style=\"text-align: right;\">\n",
       "      <th></th>\n",
       "      <th>DATE</th>\n",
       "      <th>POP</th>\n",
       "    </tr>\n",
       "  </thead>\n",
       "  <tbody>\n",
       "    <tr>\n",
       "      <th>0</th>\n",
       "      <td>1952-01-01</td>\n",
       "      <td>156309.0</td>\n",
       "    </tr>\n",
       "    <tr>\n",
       "      <th>1</th>\n",
       "      <td>1952-02-01</td>\n",
       "      <td>156527.0</td>\n",
       "    </tr>\n",
       "    <tr>\n",
       "      <th>2</th>\n",
       "      <td>1952-03-01</td>\n",
       "      <td>156731.0</td>\n",
       "    </tr>\n",
       "    <tr>\n",
       "      <th>3</th>\n",
       "      <td>1952-04-01</td>\n",
       "      <td>156943.0</td>\n",
       "    </tr>\n",
       "    <tr>\n",
       "      <th>4</th>\n",
       "      <td>1952-05-01</td>\n",
       "      <td>157140.0</td>\n",
       "    </tr>\n",
       "  </tbody>\n",
       "</table>\n",
       "</div>"
      ],
      "text/plain": [
       "         DATE       POP\n",
       "0  1952-01-01  156309.0\n",
       "1  1952-02-01  156527.0\n",
       "2  1952-03-01  156731.0\n",
       "3  1952-04-01  156943.0\n",
       "4  1952-05-01  157140.0"
      ]
     },
     "execution_count": 9,
     "metadata": {},
     "output_type": "execute_result"
    }
   ],
   "source": [
    "population.head()"
   ]
  },
  {
   "cell_type": "code",
   "execution_count": 10,
   "metadata": {
    "id": "cfIKxTJCPK0b"
   },
   "outputs": [],
   "source": [
    "# Setting DATE as index, column renaming, setting DATE as index, filtering data from \"2003-09-01\":\"2023-09-01\".\n",
    "\n",
    "population.set_index('DATE', inplace =True)\n",
    "population.rename(columns= {'POP': 'population'}, inplace =True)\n",
    "population.index = pd.to_datetime(population.index)\n",
    "population = population[\"2003-09-01\":\"2023-09-01\"]"
   ]
  },
  {
   "cell_type": "code",
   "execution_count": 11,
   "metadata": {
    "colab": {
     "base_uri": "https://localhost:8080/"
    },
    "id": "Po6y2m8dPfSr",
    "outputId": "729667fa-980a-47a3-eb43-4ce1bd80ff32"
   },
   "outputs": [
    {
     "data": {
      "text/plain": [
       "(241, 1)"
      ]
     },
     "execution_count": 11,
     "metadata": {},
     "output_type": "execute_result"
    }
   ],
   "source": [
    "population.shape"
   ]
  },
  {
   "cell_type": "code",
   "execution_count": 12,
   "metadata": {
    "id": "fn06GiOW3fhi"
   },
   "outputs": [],
   "source": [
    "population.to_csv('Cleaned data/population.csv')"
   ]
  },
  {
   "cell_type": "markdown",
   "metadata": {
    "id": "7fjaEFv9PwY7"
   },
   "source": [
    "### Personal Income\n",
    "\n",
    "#### Income that persons receive in return for their provision of labor, land, and capital used in current production and the net current transfer payments that they receive from business and from government."
   ]
  },
  {
   "cell_type": "code",
   "execution_count": 13,
   "metadata": {
    "id": "Se0-DSC8PhTv"
   },
   "outputs": [],
   "source": [
    "income = pd.read_csv('PI.csv')"
   ]
  },
  {
   "cell_type": "code",
   "execution_count": 14,
   "metadata": {
    "colab": {
     "base_uri": "https://localhost:8080/",
     "height": 206
    },
    "id": "YGD8H-TtQ-zk",
    "outputId": "9daebbb6-8664-477c-80c5-89f0b0caa200"
   },
   "outputs": [
    {
     "data": {
      "text/html": [
       "<div>\n",
       "<style scoped>\n",
       "    .dataframe tbody tr th:only-of-type {\n",
       "        vertical-align: middle;\n",
       "    }\n",
       "\n",
       "    .dataframe tbody tr th {\n",
       "        vertical-align: top;\n",
       "    }\n",
       "\n",
       "    .dataframe thead th {\n",
       "        text-align: right;\n",
       "    }\n",
       "</style>\n",
       "<table border=\"1\" class=\"dataframe\">\n",
       "  <thead>\n",
       "    <tr style=\"text-align: right;\">\n",
       "      <th></th>\n",
       "      <th>DATE</th>\n",
       "      <th>PI</th>\n",
       "    </tr>\n",
       "  </thead>\n",
       "  <tbody>\n",
       "    <tr>\n",
       "      <th>0</th>\n",
       "      <td>1959-01-01</td>\n",
       "      <td>391.8</td>\n",
       "    </tr>\n",
       "    <tr>\n",
       "      <th>1</th>\n",
       "      <td>1959-02-01</td>\n",
       "      <td>393.7</td>\n",
       "    </tr>\n",
       "    <tr>\n",
       "      <th>2</th>\n",
       "      <td>1959-03-01</td>\n",
       "      <td>396.5</td>\n",
       "    </tr>\n",
       "    <tr>\n",
       "      <th>3</th>\n",
       "      <td>1959-04-01</td>\n",
       "      <td>399.9</td>\n",
       "    </tr>\n",
       "    <tr>\n",
       "      <th>4</th>\n",
       "      <td>1959-05-01</td>\n",
       "      <td>402.4</td>\n",
       "    </tr>\n",
       "  </tbody>\n",
       "</table>\n",
       "</div>"
      ],
      "text/plain": [
       "         DATE     PI\n",
       "0  1959-01-01  391.8\n",
       "1  1959-02-01  393.7\n",
       "2  1959-03-01  396.5\n",
       "3  1959-04-01  399.9\n",
       "4  1959-05-01  402.4"
      ]
     },
     "execution_count": 14,
     "metadata": {},
     "output_type": "execute_result"
    }
   ],
   "source": [
    "income.head()"
   ]
  },
  {
   "cell_type": "code",
   "execution_count": 15,
   "metadata": {
    "id": "JWxj_rV8QqDt"
   },
   "outputs": [],
   "source": [
    "# Setting DATE as index, column renaming, setting DATE as index, filtering data from \"2003-09-01\":\"2023-09-01\"\n",
    "\n",
    "income.set_index('DATE', inplace =True)\n",
    "income.rename(columns= {'PI': 'income'}, inplace =True)\n",
    "income.index = pd.to_datetime(income.index)\n",
    "income = income[\"2003-09-01\":\"2023-09-01\"]"
   ]
  },
  {
   "cell_type": "code",
   "execution_count": 16,
   "metadata": {
    "colab": {
     "base_uri": "https://localhost:8080/"
    },
    "id": "yVVq8wY0QvRy",
    "outputId": "dc6d6c3e-dbc5-4a4f-f9eb-b136778141be"
   },
   "outputs": [
    {
     "data": {
      "text/plain": [
       "(241, 1)"
      ]
     },
     "execution_count": 16,
     "metadata": {},
     "output_type": "execute_result"
    }
   ],
   "source": [
    "income.shape"
   ]
  },
  {
   "cell_type": "code",
   "execution_count": 17,
   "metadata": {
    "id": "-RkY_eCQ35mV"
   },
   "outputs": [],
   "source": [
    "income.to_csv(\"Cleaned data/income.csv\")"
   ]
  },
  {
   "cell_type": "markdown",
   "metadata": {
    "id": "WbekMsFsRpNx"
   },
   "source": [
    "### Gross Domestic Product\n",
    "\n",
    "#### Featured measure of U.S. output, is the market value of the goods and services produced by labor and property located in the United States."
   ]
  },
  {
   "cell_type": "code",
   "execution_count": 18,
   "metadata": {
    "id": "909dkMzSRNkw"
   },
   "outputs": [],
   "source": [
    "gdp = pd.read_csv(\"GDP.csv\")"
   ]
  },
  {
   "cell_type": "code",
   "execution_count": 19,
   "metadata": {
    "colab": {
     "base_uri": "https://localhost:8080/",
     "height": 206
    },
    "id": "fkvlYCruXhTW",
    "outputId": "8f34e471-6ce4-44f5-8fc5-85bb07e45103"
   },
   "outputs": [
    {
     "data": {
      "text/html": [
       "<div>\n",
       "<style scoped>\n",
       "    .dataframe tbody tr th:only-of-type {\n",
       "        vertical-align: middle;\n",
       "    }\n",
       "\n",
       "    .dataframe tbody tr th {\n",
       "        vertical-align: top;\n",
       "    }\n",
       "\n",
       "    .dataframe thead th {\n",
       "        text-align: right;\n",
       "    }\n",
       "</style>\n",
       "<table border=\"1\" class=\"dataframe\">\n",
       "  <thead>\n",
       "    <tr style=\"text-align: right;\">\n",
       "      <th></th>\n",
       "      <th>DATE</th>\n",
       "      <th>GDP</th>\n",
       "    </tr>\n",
       "  </thead>\n",
       "  <tbody>\n",
       "    <tr>\n",
       "      <th>0</th>\n",
       "      <td>1947-01-01</td>\n",
       "      <td>243.164</td>\n",
       "    </tr>\n",
       "    <tr>\n",
       "      <th>1</th>\n",
       "      <td>1947-04-01</td>\n",
       "      <td>245.968</td>\n",
       "    </tr>\n",
       "    <tr>\n",
       "      <th>2</th>\n",
       "      <td>1947-07-01</td>\n",
       "      <td>249.585</td>\n",
       "    </tr>\n",
       "    <tr>\n",
       "      <th>3</th>\n",
       "      <td>1947-10-01</td>\n",
       "      <td>259.745</td>\n",
       "    </tr>\n",
       "    <tr>\n",
       "      <th>4</th>\n",
       "      <td>1948-01-01</td>\n",
       "      <td>265.742</td>\n",
       "    </tr>\n",
       "  </tbody>\n",
       "</table>\n",
       "</div>"
      ],
      "text/plain": [
       "         DATE      GDP\n",
       "0  1947-01-01  243.164\n",
       "1  1947-04-01  245.968\n",
       "2  1947-07-01  249.585\n",
       "3  1947-10-01  259.745\n",
       "4  1948-01-01  265.742"
      ]
     },
     "execution_count": 19,
     "metadata": {},
     "output_type": "execute_result"
    }
   ],
   "source": [
    "gdp.head()"
   ]
  },
  {
   "cell_type": "code",
   "execution_count": 20,
   "metadata": {
    "id": "ZdceOjBmSaip"
   },
   "outputs": [],
   "source": [
    "# Setting DATE as index, column renaming, setting DATE as index, filtering data from \"2003-09-01\":\"2023-09-01\"\n",
    "\n",
    "gdp.set_index('DATE', inplace =True)\n",
    "gdp.index = pd.to_datetime(gdp.index)\n",
    "\n",
    "# Resampling\n",
    "gdp = gdp.resample('M').ffill()\n",
    "\n",
    "# # Set the day of the index to 1\n",
    "gdp.index = gdp.index.map(lambda x: x.replace(day=1))\n",
    "gdp = gdp[\"2003-09-01\":\"2023-09-01\"]"
   ]
  },
  {
   "cell_type": "code",
   "execution_count": 21,
   "metadata": {
    "colab": {
     "base_uri": "https://localhost:8080/"
    },
    "id": "Cb40y-laSrv4",
    "outputId": "51225b73-4c45-49ee-dc4a-aaee19927ddf"
   },
   "outputs": [
    {
     "data": {
      "text/plain": [
       "(239, 1)"
      ]
     },
     "execution_count": 21,
     "metadata": {},
     "output_type": "execute_result"
    }
   ],
   "source": [
    "gdp.shape"
   ]
  },
  {
   "cell_type": "code",
   "execution_count": 22,
   "metadata": {
    "id": "IHtY0fyW4MjR"
   },
   "outputs": [],
   "source": [
    "gdp.to_csv(\"Cleaned data/gdp.csv\")"
   ]
  },
  {
   "cell_type": "markdown",
   "metadata": {
    "id": "48MzKER1YGyE"
   },
   "source": [
    "### Unemployment Rate\n",
    "\n",
    "#### The unemployment rate represents the number of unemployed as a percentage of the labor force. (20 years age or above)"
   ]
  },
  {
   "cell_type": "code",
   "execution_count": 23,
   "metadata": {
    "id": "YgE8lMM4Ss7Y"
   },
   "outputs": [],
   "source": [
    "unemployed_rate = pd.read_csv('UNRATE.csv')"
   ]
  },
  {
   "cell_type": "code",
   "execution_count": 24,
   "metadata": {
    "colab": {
     "base_uri": "https://localhost:8080/",
     "height": 206
    },
    "id": "XWo7PofbY7rn",
    "outputId": "4f1a340e-c280-41e6-826c-a8641b271f0b"
   },
   "outputs": [
    {
     "data": {
      "text/html": [
       "<div>\n",
       "<style scoped>\n",
       "    .dataframe tbody tr th:only-of-type {\n",
       "        vertical-align: middle;\n",
       "    }\n",
       "\n",
       "    .dataframe tbody tr th {\n",
       "        vertical-align: top;\n",
       "    }\n",
       "\n",
       "    .dataframe thead th {\n",
       "        text-align: right;\n",
       "    }\n",
       "</style>\n",
       "<table border=\"1\" class=\"dataframe\">\n",
       "  <thead>\n",
       "    <tr style=\"text-align: right;\">\n",
       "      <th></th>\n",
       "      <th>DATE</th>\n",
       "      <th>UNRATE</th>\n",
       "    </tr>\n",
       "  </thead>\n",
       "  <tbody>\n",
       "    <tr>\n",
       "      <th>0</th>\n",
       "      <td>1948-01-01</td>\n",
       "      <td>3.4</td>\n",
       "    </tr>\n",
       "    <tr>\n",
       "      <th>1</th>\n",
       "      <td>1948-02-01</td>\n",
       "      <td>3.8</td>\n",
       "    </tr>\n",
       "    <tr>\n",
       "      <th>2</th>\n",
       "      <td>1948-03-01</td>\n",
       "      <td>4.0</td>\n",
       "    </tr>\n",
       "    <tr>\n",
       "      <th>3</th>\n",
       "      <td>1948-04-01</td>\n",
       "      <td>3.9</td>\n",
       "    </tr>\n",
       "    <tr>\n",
       "      <th>4</th>\n",
       "      <td>1948-05-01</td>\n",
       "      <td>3.5</td>\n",
       "    </tr>\n",
       "  </tbody>\n",
       "</table>\n",
       "</div>"
      ],
      "text/plain": [
       "         DATE  UNRATE\n",
       "0  1948-01-01     3.4\n",
       "1  1948-02-01     3.8\n",
       "2  1948-03-01     4.0\n",
       "3  1948-04-01     3.9\n",
       "4  1948-05-01     3.5"
      ]
     },
     "execution_count": 24,
     "metadata": {},
     "output_type": "execute_result"
    }
   ],
   "source": [
    "unemployed_rate.head()"
   ]
  },
  {
   "cell_type": "code",
   "execution_count": 25,
   "metadata": {
    "id": "wjkB2lAJZF60"
   },
   "outputs": [],
   "source": [
    "# Setting DATE as index, column renaming, setting DATE as index, filtering data from \"2003-09-01\":\"2023-09-01\"\n",
    "\n",
    "unemployed_rate.set_index('DATE', inplace =True)\n",
    "unemployed_rate.rename(columns= {'UNRATE': 'unemployed_rate'}, inplace =True)\n",
    "unemployed_rate.index = pd.to_datetime(unemployed_rate.index)\n",
    "unemployed_rate = unemployed_rate[\"2003-09-01\":\"2023-09-01\"]"
   ]
  },
  {
   "cell_type": "code",
   "execution_count": 26,
   "metadata": {
    "colab": {
     "base_uri": "https://localhost:8080/"
    },
    "id": "ne9-esLRZWHw",
    "outputId": "dfe4a408-1451-42f1-d148-e3efa8dd08f3"
   },
   "outputs": [
    {
     "data": {
      "text/plain": [
       "(241, 1)"
      ]
     },
     "execution_count": 26,
     "metadata": {},
     "output_type": "execute_result"
    }
   ],
   "source": [
    "unemployed_rate.shape"
   ]
  },
  {
   "cell_type": "code",
   "execution_count": 27,
   "metadata": {
    "id": "MfRE88gH4eom"
   },
   "outputs": [],
   "source": [
    "unemployed_rate.to_csv(\"Cleaned data/unemployed_rate.csv\")"
   ]
  },
  {
   "cell_type": "markdown",
   "metadata": {
    "id": "vzKw8K7rZah_"
   },
   "source": [
    "### Mortgage Rate\n",
    "\n",
    "#### A mortgage rate is the interest rate charged for a home loan.(Percentage)"
   ]
  },
  {
   "cell_type": "code",
   "execution_count": 28,
   "metadata": {
    "id": "hzf5zWttZYDV"
   },
   "outputs": [],
   "source": [
    "mortgage =pd.read_csv(\"MORTGAGE30US.csv\")"
   ]
  },
  {
   "cell_type": "code",
   "execution_count": 29,
   "metadata": {
    "colab": {
     "base_uri": "https://localhost:8080/",
     "height": 206
    },
    "id": "TGxSfFY0i2zK",
    "outputId": "aead2d7d-b2a0-475d-fd10-d41c066e525d"
   },
   "outputs": [
    {
     "data": {
      "text/html": [
       "<div>\n",
       "<style scoped>\n",
       "    .dataframe tbody tr th:only-of-type {\n",
       "        vertical-align: middle;\n",
       "    }\n",
       "\n",
       "    .dataframe tbody tr th {\n",
       "        vertical-align: top;\n",
       "    }\n",
       "\n",
       "    .dataframe thead th {\n",
       "        text-align: right;\n",
       "    }\n",
       "</style>\n",
       "<table border=\"1\" class=\"dataframe\">\n",
       "  <thead>\n",
       "    <tr style=\"text-align: right;\">\n",
       "      <th></th>\n",
       "      <th>DATE</th>\n",
       "      <th>MORTGAGE30US</th>\n",
       "    </tr>\n",
       "  </thead>\n",
       "  <tbody>\n",
       "    <tr>\n",
       "      <th>0</th>\n",
       "      <td>1971-04-02</td>\n",
       "      <td>7.33</td>\n",
       "    </tr>\n",
       "    <tr>\n",
       "      <th>1</th>\n",
       "      <td>1971-04-09</td>\n",
       "      <td>7.31</td>\n",
       "    </tr>\n",
       "    <tr>\n",
       "      <th>2</th>\n",
       "      <td>1971-04-16</td>\n",
       "      <td>7.31</td>\n",
       "    </tr>\n",
       "    <tr>\n",
       "      <th>3</th>\n",
       "      <td>1971-04-23</td>\n",
       "      <td>7.31</td>\n",
       "    </tr>\n",
       "    <tr>\n",
       "      <th>4</th>\n",
       "      <td>1971-04-30</td>\n",
       "      <td>7.29</td>\n",
       "    </tr>\n",
       "  </tbody>\n",
       "</table>\n",
       "</div>"
      ],
      "text/plain": [
       "         DATE  MORTGAGE30US\n",
       "0  1971-04-02          7.33\n",
       "1  1971-04-09          7.31\n",
       "2  1971-04-16          7.31\n",
       "3  1971-04-23          7.31\n",
       "4  1971-04-30          7.29"
      ]
     },
     "execution_count": 29,
     "metadata": {},
     "output_type": "execute_result"
    }
   ],
   "source": [
    "mortgage.head()"
   ]
  },
  {
   "cell_type": "code",
   "execution_count": 30,
   "metadata": {
    "id": "ELZSdUiei5ml"
   },
   "outputs": [],
   "source": [
    "# Setting DATE as index, column renaming, setting DATE as index, filtering data from \"2003-09-01\":\"2023-09-01\"\n",
    "\n",
    "mortgage.set_index('DATE', inplace =True)\n",
    "mortgage.rename(columns= {'MORTGAGE30US': 'mortgage_rate'}, inplace =True)\n",
    "mortgage.index = pd.to_datetime(mortgage.index)\n",
    "mortgage = mortgage[\"2003-09-01\":\"2023-09-01\"]"
   ]
  },
  {
   "cell_type": "code",
   "execution_count": 31,
   "metadata": {
    "colab": {
     "base_uri": "https://localhost:8080/"
    },
    "id": "U_lgrZIRjHii",
    "outputId": "6ed7a516-c10d-4677-fc02-698516335872"
   },
   "outputs": [
    {
     "data": {
      "text/plain": [
       "(1044, 1)"
      ]
     },
     "execution_count": 31,
     "metadata": {},
     "output_type": "execute_result"
    }
   ],
   "source": [
    "mortgage.shape"
   ]
  },
  {
   "cell_type": "code",
   "execution_count": 32,
   "metadata": {
    "id": "3P0_d7S74mlL"
   },
   "outputs": [],
   "source": [
    "mortgage.to_csv(\"Cleaned data/mortgage.csv\")"
   ]
  },
  {
   "cell_type": "markdown",
   "metadata": {
    "id": "NtKBXywIjOBZ"
   },
   "source": [
    "### Employment-Population Ratio (emratio)\n"
   ]
  },
  {
   "cell_type": "code",
   "execution_count": 33,
   "metadata": {
    "id": "obvX21G0jJbB"
   },
   "outputs": [],
   "source": [
    "emratio = pd.read_csv(\"EMRATIO.csv\")"
   ]
  },
  {
   "cell_type": "code",
   "execution_count": 34,
   "metadata": {
    "colab": {
     "base_uri": "https://localhost:8080/",
     "height": 206
    },
    "id": "VBP43AMHj35O",
    "outputId": "163c3aec-2416-47ea-f002-f6834ed17d85"
   },
   "outputs": [
    {
     "data": {
      "text/html": [
       "<div>\n",
       "<style scoped>\n",
       "    .dataframe tbody tr th:only-of-type {\n",
       "        vertical-align: middle;\n",
       "    }\n",
       "\n",
       "    .dataframe tbody tr th {\n",
       "        vertical-align: top;\n",
       "    }\n",
       "\n",
       "    .dataframe thead th {\n",
       "        text-align: right;\n",
       "    }\n",
       "</style>\n",
       "<table border=\"1\" class=\"dataframe\">\n",
       "  <thead>\n",
       "    <tr style=\"text-align: right;\">\n",
       "      <th></th>\n",
       "      <th>DATE</th>\n",
       "      <th>EMRATIO</th>\n",
       "    </tr>\n",
       "  </thead>\n",
       "  <tbody>\n",
       "    <tr>\n",
       "      <th>0</th>\n",
       "      <td>1948-01-01</td>\n",
       "      <td>56.6</td>\n",
       "    </tr>\n",
       "    <tr>\n",
       "      <th>1</th>\n",
       "      <td>1948-02-01</td>\n",
       "      <td>56.7</td>\n",
       "    </tr>\n",
       "    <tr>\n",
       "      <th>2</th>\n",
       "      <td>1948-03-01</td>\n",
       "      <td>56.1</td>\n",
       "    </tr>\n",
       "    <tr>\n",
       "      <th>3</th>\n",
       "      <td>1948-04-01</td>\n",
       "      <td>56.7</td>\n",
       "    </tr>\n",
       "    <tr>\n",
       "      <th>4</th>\n",
       "      <td>1948-05-01</td>\n",
       "      <td>56.2</td>\n",
       "    </tr>\n",
       "  </tbody>\n",
       "</table>\n",
       "</div>"
      ],
      "text/plain": [
       "         DATE  EMRATIO\n",
       "0  1948-01-01     56.6\n",
       "1  1948-02-01     56.7\n",
       "2  1948-03-01     56.1\n",
       "3  1948-04-01     56.7\n",
       "4  1948-05-01     56.2"
      ]
     },
     "execution_count": 34,
     "metadata": {},
     "output_type": "execute_result"
    }
   ],
   "source": [
    "emratio.head()"
   ]
  },
  {
   "cell_type": "code",
   "execution_count": 35,
   "metadata": {
    "id": "XKI_vfGlj5hI"
   },
   "outputs": [],
   "source": [
    "# Setting DATE as index, column renaming, setting DATE as index, filtering data from \"2003-09-01\":\"2023-09-01\"\n",
    "\n",
    "emratio.set_index('DATE', inplace =True)\n",
    "emratio.rename(columns= {'EMRATIO': 'emratio'}, inplace =True)\n",
    "emratio.index = pd.to_datetime(emratio.index)\n",
    "emratio = emratio[\"2003-09-01\":\"2023-09-01\"]"
   ]
  },
  {
   "cell_type": "code",
   "execution_count": 36,
   "metadata": {
    "colab": {
     "base_uri": "https://localhost:8080/"
    },
    "id": "hf5_LpznkFPp",
    "outputId": "8ad44632-46cc-4b4b-ccc9-e3cbd07fd42d"
   },
   "outputs": [
    {
     "data": {
      "text/plain": [
       "(241, 1)"
      ]
     },
     "execution_count": 36,
     "metadata": {},
     "output_type": "execute_result"
    }
   ],
   "source": [
    "emratio.shape"
   ]
  },
  {
   "cell_type": "code",
   "execution_count": 37,
   "metadata": {
    "id": "U407jkNs4stp"
   },
   "outputs": [],
   "source": [
    "emratio.to_csv(\"Cleaned data/emratio.csv\")"
   ]
  },
  {
   "cell_type": "markdown",
   "metadata": {
    "id": "71_awk_6kIt2"
   },
   "source": [
    "### Building Construction issued permit in US (Total Units)"
   ]
  },
  {
   "cell_type": "code",
   "execution_count": 38,
   "metadata": {
    "id": "2754UOvokHOH"
   },
   "outputs": [],
   "source": [
    "permit = pd.read_csv(\"PERMIT.csv\")"
   ]
  },
  {
   "cell_type": "code",
   "execution_count": 39,
   "metadata": {
    "colab": {
     "base_uri": "https://localhost:8080/",
     "height": 206
    },
    "id": "cCqi59xnoj7P",
    "outputId": "4a734ab8-a12b-438b-cb52-1d8cd3b9744e"
   },
   "outputs": [
    {
     "data": {
      "text/html": [
       "<div>\n",
       "<style scoped>\n",
       "    .dataframe tbody tr th:only-of-type {\n",
       "        vertical-align: middle;\n",
       "    }\n",
       "\n",
       "    .dataframe tbody tr th {\n",
       "        vertical-align: top;\n",
       "    }\n",
       "\n",
       "    .dataframe thead th {\n",
       "        text-align: right;\n",
       "    }\n",
       "</style>\n",
       "<table border=\"1\" class=\"dataframe\">\n",
       "  <thead>\n",
       "    <tr style=\"text-align: right;\">\n",
       "      <th></th>\n",
       "      <th>DATE</th>\n",
       "      <th>PERMIT</th>\n",
       "    </tr>\n",
       "  </thead>\n",
       "  <tbody>\n",
       "    <tr>\n",
       "      <th>0</th>\n",
       "      <td>1960-01-01</td>\n",
       "      <td>1092.0</td>\n",
       "    </tr>\n",
       "    <tr>\n",
       "      <th>1</th>\n",
       "      <td>1960-02-01</td>\n",
       "      <td>1088.0</td>\n",
       "    </tr>\n",
       "    <tr>\n",
       "      <th>2</th>\n",
       "      <td>1960-03-01</td>\n",
       "      <td>955.0</td>\n",
       "    </tr>\n",
       "    <tr>\n",
       "      <th>3</th>\n",
       "      <td>1960-04-01</td>\n",
       "      <td>1016.0</td>\n",
       "    </tr>\n",
       "    <tr>\n",
       "      <th>4</th>\n",
       "      <td>1960-05-01</td>\n",
       "      <td>1052.0</td>\n",
       "    </tr>\n",
       "  </tbody>\n",
       "</table>\n",
       "</div>"
      ],
      "text/plain": [
       "         DATE  PERMIT\n",
       "0  1960-01-01  1092.0\n",
       "1  1960-02-01  1088.0\n",
       "2  1960-03-01   955.0\n",
       "3  1960-04-01  1016.0\n",
       "4  1960-05-01  1052.0"
      ]
     },
     "execution_count": 39,
     "metadata": {},
     "output_type": "execute_result"
    }
   ],
   "source": [
    "permit.head()"
   ]
  },
  {
   "cell_type": "code",
   "execution_count": 40,
   "metadata": {
    "id": "jgfU9Nq7opvx"
   },
   "outputs": [],
   "source": [
    "# Setting DATE as index, column renaming, setting DATE as index, filtering data from \"2003-09-01\":\"2023-09-01\"\n",
    "\n",
    "permit.set_index('DATE', inplace =True)\n",
    "permit.rename(columns= {'PERMIT': 'permit'}, inplace =True)\n",
    "permit.index = pd.to_datetime(permit.index)\n",
    "permit = permit[\"2003-09-01\":\"2023-09-01\"]"
   ]
  },
  {
   "cell_type": "code",
   "execution_count": 41,
   "metadata": {
    "colab": {
     "base_uri": "https://localhost:8080/"
    },
    "id": "TDUSsPGPo9yg",
    "outputId": "3af47e2b-1293-4833-eb0e-46f354dccdbd"
   },
   "outputs": [
    {
     "data": {
      "text/plain": [
       "(241, 1)"
      ]
     },
     "execution_count": 41,
     "metadata": {},
     "output_type": "execute_result"
    }
   ],
   "source": [
    "permit.shape"
   ]
  },
  {
   "cell_type": "code",
   "execution_count": 42,
   "metadata": {
    "id": "dnZQoW4Y40y_"
   },
   "outputs": [],
   "source": [
    "permit.to_csv(\"Cleaned data/permit.csv\")"
   ]
  },
  {
   "cell_type": "markdown",
   "metadata": {
    "id": "HrELBOA-q1SD"
   },
   "source": [
    "### Labor Force Participation Rate\n",
    "\n",
    "#### The participation rate is the percentage of the population that is either working or actively looking for work."
   ]
  },
  {
   "cell_type": "code",
   "execution_count": 43,
   "metadata": {
    "id": "fTvwZLwwo-95"
   },
   "outputs": [],
   "source": [
    "labor_percent = pd.read_csv(\"CIVPART.csv\")"
   ]
  },
  {
   "cell_type": "code",
   "execution_count": 44,
   "metadata": {
    "colab": {
     "base_uri": "https://localhost:8080/",
     "height": 206
    },
    "id": "OCeUhlmPrjgI",
    "outputId": "d0d6a228-587b-45e2-ff1d-4280768c0a39"
   },
   "outputs": [
    {
     "data": {
      "text/html": [
       "<div>\n",
       "<style scoped>\n",
       "    .dataframe tbody tr th:only-of-type {\n",
       "        vertical-align: middle;\n",
       "    }\n",
       "\n",
       "    .dataframe tbody tr th {\n",
       "        vertical-align: top;\n",
       "    }\n",
       "\n",
       "    .dataframe thead th {\n",
       "        text-align: right;\n",
       "    }\n",
       "</style>\n",
       "<table border=\"1\" class=\"dataframe\">\n",
       "  <thead>\n",
       "    <tr style=\"text-align: right;\">\n",
       "      <th></th>\n",
       "      <th>DATE</th>\n",
       "      <th>CIVPART</th>\n",
       "    </tr>\n",
       "  </thead>\n",
       "  <tbody>\n",
       "    <tr>\n",
       "      <th>0</th>\n",
       "      <td>1948-01-01</td>\n",
       "      <td>58.6</td>\n",
       "    </tr>\n",
       "    <tr>\n",
       "      <th>1</th>\n",
       "      <td>1948-02-01</td>\n",
       "      <td>58.9</td>\n",
       "    </tr>\n",
       "    <tr>\n",
       "      <th>2</th>\n",
       "      <td>1948-03-01</td>\n",
       "      <td>58.5</td>\n",
       "    </tr>\n",
       "    <tr>\n",
       "      <th>3</th>\n",
       "      <td>1948-04-01</td>\n",
       "      <td>59.0</td>\n",
       "    </tr>\n",
       "    <tr>\n",
       "      <th>4</th>\n",
       "      <td>1948-05-01</td>\n",
       "      <td>58.3</td>\n",
       "    </tr>\n",
       "  </tbody>\n",
       "</table>\n",
       "</div>"
      ],
      "text/plain": [
       "         DATE  CIVPART\n",
       "0  1948-01-01     58.6\n",
       "1  1948-02-01     58.9\n",
       "2  1948-03-01     58.5\n",
       "3  1948-04-01     59.0\n",
       "4  1948-05-01     58.3"
      ]
     },
     "execution_count": 44,
     "metadata": {},
     "output_type": "execute_result"
    }
   ],
   "source": [
    "labor_percent.head()"
   ]
  },
  {
   "cell_type": "code",
   "execution_count": 45,
   "metadata": {
    "id": "ysg5I10brlxI"
   },
   "outputs": [],
   "source": [
    "# Setting DATE as index, column renaming, setting DATE as index, filtering data from \"2003-09-01\":\"2023-09-01\"\n",
    "\n",
    "labor_percent.set_index('DATE', inplace =True)\n",
    "labor_percent.rename(columns= {'CIVPART': 'labor_percent'}, inplace =True)\n",
    "labor_percent.index = pd.to_datetime(labor_percent.index)\n",
    "labor_percent = labor_percent[\"2003-09-01\":\"2023-09-01\"]"
   ]
  },
  {
   "cell_type": "code",
   "execution_count": 46,
   "metadata": {
    "colab": {
     "base_uri": "https://localhost:8080/"
    },
    "id": "cTJSVDWoup2g",
    "outputId": "50710daa-464b-4d77-be83-39fc3abe8dad"
   },
   "outputs": [
    {
     "data": {
      "text/plain": [
       "(241, 1)"
      ]
     },
     "execution_count": 46,
     "metadata": {},
     "output_type": "execute_result"
    }
   ],
   "source": [
    "labor_percent.shape"
   ]
  },
  {
   "cell_type": "code",
   "execution_count": 47,
   "metadata": {
    "id": "YBqEizqi473D"
   },
   "outputs": [],
   "source": [
    "labor_percent.to_csv(\"Cleaned data/labor_percent.csv\")"
   ]
  },
  {
   "cell_type": "markdown",
   "metadata": {
    "id": "CI1eSK-svjsf"
   },
   "source": [
    "### Monthly Supply of New Houses in the United States\n",
    "\n",
    "#### The monthy supply is the ratio of new houses for sale to new houses sold."
   ]
  },
  {
   "cell_type": "code",
   "execution_count": 48,
   "metadata": {
    "id": "Z3jH4GB2usbQ"
   },
   "outputs": [],
   "source": [
    "monthly_supply = pd.read_csv(\"MSACSR.csv\")"
   ]
  },
  {
   "cell_type": "code",
   "execution_count": 49,
   "metadata": {
    "colab": {
     "base_uri": "https://localhost:8080/",
     "height": 206
    },
    "id": "KHOHSAORwRej",
    "outputId": "7fbcd977-abd1-4237-e48d-4475237081c3"
   },
   "outputs": [
    {
     "data": {
      "text/html": [
       "<div>\n",
       "<style scoped>\n",
       "    .dataframe tbody tr th:only-of-type {\n",
       "        vertical-align: middle;\n",
       "    }\n",
       "\n",
       "    .dataframe tbody tr th {\n",
       "        vertical-align: top;\n",
       "    }\n",
       "\n",
       "    .dataframe thead th {\n",
       "        text-align: right;\n",
       "    }\n",
       "</style>\n",
       "<table border=\"1\" class=\"dataframe\">\n",
       "  <thead>\n",
       "    <tr style=\"text-align: right;\">\n",
       "      <th></th>\n",
       "      <th>DATE</th>\n",
       "      <th>MSACSR</th>\n",
       "    </tr>\n",
       "  </thead>\n",
       "  <tbody>\n",
       "    <tr>\n",
       "      <th>0</th>\n",
       "      <td>1963-01-01</td>\n",
       "      <td>4.7</td>\n",
       "    </tr>\n",
       "    <tr>\n",
       "      <th>1</th>\n",
       "      <td>1963-02-01</td>\n",
       "      <td>6.6</td>\n",
       "    </tr>\n",
       "    <tr>\n",
       "      <th>2</th>\n",
       "      <td>1963-03-01</td>\n",
       "      <td>6.4</td>\n",
       "    </tr>\n",
       "    <tr>\n",
       "      <th>3</th>\n",
       "      <td>1963-04-01</td>\n",
       "      <td>5.3</td>\n",
       "    </tr>\n",
       "    <tr>\n",
       "      <th>4</th>\n",
       "      <td>1963-05-01</td>\n",
       "      <td>5.1</td>\n",
       "    </tr>\n",
       "  </tbody>\n",
       "</table>\n",
       "</div>"
      ],
      "text/plain": [
       "         DATE  MSACSR\n",
       "0  1963-01-01     4.7\n",
       "1  1963-02-01     6.6\n",
       "2  1963-03-01     6.4\n",
       "3  1963-04-01     5.3\n",
       "4  1963-05-01     5.1"
      ]
     },
     "execution_count": 49,
     "metadata": {},
     "output_type": "execute_result"
    }
   ],
   "source": [
    "monthly_supply.head()"
   ]
  },
  {
   "cell_type": "code",
   "execution_count": 50,
   "metadata": {
    "id": "cpLuahclwUoD"
   },
   "outputs": [],
   "source": [
    "# Setting DATE as index, column renaming, setting DATE as index, filtering data from \"2003-09-01\":\"2023-09-01\"\n",
    "\n",
    "monthly_supply.set_index('DATE', inplace =True)\n",
    "monthly_supply.rename(columns= {'MSACSR': 'monthly_supply'}, inplace =True)\n",
    "monthly_supply.index = pd.to_datetime(monthly_supply.index)\n",
    "monthly_supply = monthly_supply[\"2003-09-01\":\"2023-09-01\"]"
   ]
  },
  {
   "cell_type": "code",
   "execution_count": 51,
   "metadata": {
    "colab": {
     "base_uri": "https://localhost:8080/"
    },
    "id": "f09LUYV1wi2w",
    "outputId": "b58fad56-44d1-42b7-f228-f0c08fdf0ba4"
   },
   "outputs": [
    {
     "data": {
      "text/plain": [
       "(241, 1)"
      ]
     },
     "execution_count": 51,
     "metadata": {},
     "output_type": "execute_result"
    }
   ],
   "source": [
    "monthly_supply.shape"
   ]
  },
  {
   "cell_type": "code",
   "execution_count": 52,
   "metadata": {
    "id": "dF2UsQnj5CWM"
   },
   "outputs": [],
   "source": [
    "monthly_supply.to_csv(\"Cleaned data/monthly_supply.csv\")"
   ]
  },
  {
   "cell_type": "markdown",
   "metadata": {
    "id": "BiZ9HB8bw3C4"
   },
   "source": [
    "### Housing starts (New Housing Project)\n",
    "\n",
    "#### This is a measure of the number of units of new housing projects started in a given period."
   ]
  },
  {
   "cell_type": "code",
   "execution_count": 53,
   "metadata": {
    "id": "VO2UXcFLwlIm"
   },
   "outputs": [],
   "source": [
    "House_starts = pd.read_csv(\"HOUST.csv\")"
   ]
  },
  {
   "cell_type": "code",
   "execution_count": 54,
   "metadata": {
    "colab": {
     "base_uri": "https://localhost:8080/",
     "height": 206
    },
    "id": "i0rC7F4IxQZW",
    "outputId": "3e532eef-7c95-454a-ce6f-a18f83bb6a03"
   },
   "outputs": [
    {
     "data": {
      "text/html": [
       "<div>\n",
       "<style scoped>\n",
       "    .dataframe tbody tr th:only-of-type {\n",
       "        vertical-align: middle;\n",
       "    }\n",
       "\n",
       "    .dataframe tbody tr th {\n",
       "        vertical-align: top;\n",
       "    }\n",
       "\n",
       "    .dataframe thead th {\n",
       "        text-align: right;\n",
       "    }\n",
       "</style>\n",
       "<table border=\"1\" class=\"dataframe\">\n",
       "  <thead>\n",
       "    <tr style=\"text-align: right;\">\n",
       "      <th></th>\n",
       "      <th>DATE</th>\n",
       "      <th>HOUST</th>\n",
       "    </tr>\n",
       "  </thead>\n",
       "  <tbody>\n",
       "    <tr>\n",
       "      <th>0</th>\n",
       "      <td>1959-01-01</td>\n",
       "      <td>1657.0</td>\n",
       "    </tr>\n",
       "    <tr>\n",
       "      <th>1</th>\n",
       "      <td>1959-02-01</td>\n",
       "      <td>1667.0</td>\n",
       "    </tr>\n",
       "    <tr>\n",
       "      <th>2</th>\n",
       "      <td>1959-03-01</td>\n",
       "      <td>1620.0</td>\n",
       "    </tr>\n",
       "    <tr>\n",
       "      <th>3</th>\n",
       "      <td>1959-04-01</td>\n",
       "      <td>1590.0</td>\n",
       "    </tr>\n",
       "    <tr>\n",
       "      <th>4</th>\n",
       "      <td>1959-05-01</td>\n",
       "      <td>1498.0</td>\n",
       "    </tr>\n",
       "  </tbody>\n",
       "</table>\n",
       "</div>"
      ],
      "text/plain": [
       "         DATE   HOUST\n",
       "0  1959-01-01  1657.0\n",
       "1  1959-02-01  1667.0\n",
       "2  1959-03-01  1620.0\n",
       "3  1959-04-01  1590.0\n",
       "4  1959-05-01  1498.0"
      ]
     },
     "execution_count": 54,
     "metadata": {},
     "output_type": "execute_result"
    }
   ],
   "source": [
    "House_starts.head()"
   ]
  },
  {
   "cell_type": "code",
   "execution_count": 55,
   "metadata": {
    "id": "44ZZCk3XxS7e"
   },
   "outputs": [],
   "source": [
    "# Setting DATE as index, column renaming, setting DATE as index, filtering data from \"2003-09-01\":\"2023-09-01\"\n",
    "\n",
    "House_starts.set_index('DATE', inplace =True)\n",
    "House_starts.rename(columns= {'HOUST': 'house_st'}, inplace =True)\n",
    "House_starts.index = pd.to_datetime(House_starts.index)\n",
    "House_starts = House_starts[\"2003-09-01\":\"2023-09-01\"]"
   ]
  },
  {
   "cell_type": "code",
   "execution_count": 56,
   "metadata": {
    "colab": {
     "base_uri": "https://localhost:8080/"
    },
    "id": "3lfg3F9OxqHk",
    "outputId": "f28fd58a-af83-44d7-f295-c7f729ba024c"
   },
   "outputs": [
    {
     "data": {
      "text/plain": [
       "(241, 1)"
      ]
     },
     "execution_count": 56,
     "metadata": {},
     "output_type": "execute_result"
    }
   ],
   "source": [
    "House_starts.shape"
   ]
  },
  {
   "cell_type": "code",
   "execution_count": 57,
   "metadata": {
    "id": "K6PtjXQ-5Jmk"
   },
   "outputs": [],
   "source": [
    "House_starts.to_csv(\"Cleaned data/House_starts.csv\")"
   ]
  },
  {
   "cell_type": "markdown",
   "metadata": {
    "id": "XF1bMn_Qx0OK"
   },
   "source": [
    "### Median Sales Price.\n",
    "\n",
    "#### Median Sales Price of Houses Sold for the United States.(US Dollers)"
   ]
  },
  {
   "cell_type": "code",
   "execution_count": 58,
   "metadata": {
    "id": "S1XBTZtnxs-V"
   },
   "outputs": [],
   "source": [
    "MSPUS = pd.read_csv(\"MSPUS.csv\")"
   ]
  },
  {
   "cell_type": "code",
   "execution_count": 59,
   "metadata": {
    "colab": {
     "base_uri": "https://localhost:8080/",
     "height": 206
    },
    "id": "Kf2oE4GKyYef",
    "outputId": "78516618-dc0c-4b03-f24d-2389f5400640"
   },
   "outputs": [
    {
     "data": {
      "text/html": [
       "<div>\n",
       "<style scoped>\n",
       "    .dataframe tbody tr th:only-of-type {\n",
       "        vertical-align: middle;\n",
       "    }\n",
       "\n",
       "    .dataframe tbody tr th {\n",
       "        vertical-align: top;\n",
       "    }\n",
       "\n",
       "    .dataframe thead th {\n",
       "        text-align: right;\n",
       "    }\n",
       "</style>\n",
       "<table border=\"1\" class=\"dataframe\">\n",
       "  <thead>\n",
       "    <tr style=\"text-align: right;\">\n",
       "      <th></th>\n",
       "      <th>DATE</th>\n",
       "      <th>MSPUS</th>\n",
       "    </tr>\n",
       "  </thead>\n",
       "  <tbody>\n",
       "    <tr>\n",
       "      <th>0</th>\n",
       "      <td>1963-01-01</td>\n",
       "      <td>17800.0</td>\n",
       "    </tr>\n",
       "    <tr>\n",
       "      <th>1</th>\n",
       "      <td>1963-04-01</td>\n",
       "      <td>18000.0</td>\n",
       "    </tr>\n",
       "    <tr>\n",
       "      <th>2</th>\n",
       "      <td>1963-07-01</td>\n",
       "      <td>17900.0</td>\n",
       "    </tr>\n",
       "    <tr>\n",
       "      <th>3</th>\n",
       "      <td>1963-10-01</td>\n",
       "      <td>18500.0</td>\n",
       "    </tr>\n",
       "    <tr>\n",
       "      <th>4</th>\n",
       "      <td>1964-01-01</td>\n",
       "      <td>18500.0</td>\n",
       "    </tr>\n",
       "  </tbody>\n",
       "</table>\n",
       "</div>"
      ],
      "text/plain": [
       "         DATE    MSPUS\n",
       "0  1963-01-01  17800.0\n",
       "1  1963-04-01  18000.0\n",
       "2  1963-07-01  17900.0\n",
       "3  1963-10-01  18500.0\n",
       "4  1964-01-01  18500.0"
      ]
     },
     "execution_count": 59,
     "metadata": {},
     "output_type": "execute_result"
    }
   ],
   "source": [
    "MSPUS.head()"
   ]
  },
  {
   "cell_type": "code",
   "execution_count": 60,
   "metadata": {
    "id": "rx84ZkEKyaI2"
   },
   "outputs": [],
   "source": [
    "# Setting DATE as index, column renaming, setting DATE as index, filtering data from \"2003-09-01\":\"2023-09-01\"\n",
    "MSPUS.set_index('DATE', inplace =True)\n",
    "MSPUS.index = pd.to_datetime(MSPUS.index)\n",
    "\n",
    "# Resampling\n",
    "MSPUS = MSPUS.resample('M').ffill()\n",
    "\n",
    "# # Set the day of the index to 1\n",
    "MSPUS.index = MSPUS.index.map(lambda x: x.replace(day=1))\n",
    "MSPUS = MSPUS[\"2003-09-01\":\"2023-09-01\"]"
   ]
  },
  {
   "cell_type": "code",
   "execution_count": 61,
   "metadata": {
    "colab": {
     "base_uri": "https://localhost:8080/"
    },
    "id": "PrNwyv9hy2kw",
    "outputId": "7f866629-e91f-43d9-dbe2-f591eb072dab"
   },
   "outputs": [
    {
     "data": {
      "text/plain": [
       "(239, 1)"
      ]
     },
     "execution_count": 61,
     "metadata": {},
     "output_type": "execute_result"
    }
   ],
   "source": [
    "MSPUS.shape"
   ]
  },
  {
   "cell_type": "code",
   "execution_count": 62,
   "metadata": {
    "id": "yGOuSO4G5Swz"
   },
   "outputs": [],
   "source": [
    "MSPUS.to_csv(\"Cleaned data/MSPUS.csv\")"
   ]
  },
  {
   "cell_type": "markdown",
   "metadata": {
    "id": "pjzd3I6zzUry"
   },
   "source": [
    "### Producer Price Index -Cement Manufacturing"
   ]
  },
  {
   "cell_type": "code",
   "execution_count": 63,
   "metadata": {
    "id": "p2wy9H_YzOB_"
   },
   "outputs": [],
   "source": [
    "PPI_Cement = pd.read_csv(\"PCU32733273.csv\")"
   ]
  },
  {
   "cell_type": "code",
   "execution_count": 64,
   "metadata": {
    "colab": {
     "base_uri": "https://localhost:8080/",
     "height": 206
    },
    "id": "rReHI2Uez3Y3",
    "outputId": "dc251868-25d0-4ad5-95e6-42447e9a2d6d"
   },
   "outputs": [
    {
     "data": {
      "text/html": [
       "<div>\n",
       "<style scoped>\n",
       "    .dataframe tbody tr th:only-of-type {\n",
       "        vertical-align: middle;\n",
       "    }\n",
       "\n",
       "    .dataframe tbody tr th {\n",
       "        vertical-align: top;\n",
       "    }\n",
       "\n",
       "    .dataframe thead th {\n",
       "        text-align: right;\n",
       "    }\n",
       "</style>\n",
       "<table border=\"1\" class=\"dataframe\">\n",
       "  <thead>\n",
       "    <tr style=\"text-align: right;\">\n",
       "      <th></th>\n",
       "      <th>DATE</th>\n",
       "      <th>PCU32733273</th>\n",
       "    </tr>\n",
       "  </thead>\n",
       "  <tbody>\n",
       "    <tr>\n",
       "      <th>0</th>\n",
       "      <td>2003-12-01</td>\n",
       "      <td>100.0</td>\n",
       "    </tr>\n",
       "    <tr>\n",
       "      <th>1</th>\n",
       "      <td>2004-01-01</td>\n",
       "      <td>100.9</td>\n",
       "    </tr>\n",
       "    <tr>\n",
       "      <th>2</th>\n",
       "      <td>2004-02-01</td>\n",
       "      <td>101.7</td>\n",
       "    </tr>\n",
       "    <tr>\n",
       "      <th>3</th>\n",
       "      <td>2004-03-01</td>\n",
       "      <td>101.7</td>\n",
       "    </tr>\n",
       "    <tr>\n",
       "      <th>4</th>\n",
       "      <td>2004-04-01</td>\n",
       "      <td>102.4</td>\n",
       "    </tr>\n",
       "  </tbody>\n",
       "</table>\n",
       "</div>"
      ],
      "text/plain": [
       "         DATE  PCU32733273\n",
       "0  2003-12-01        100.0\n",
       "1  2004-01-01        100.9\n",
       "2  2004-02-01        101.7\n",
       "3  2004-03-01        101.7\n",
       "4  2004-04-01        102.4"
      ]
     },
     "execution_count": 64,
     "metadata": {},
     "output_type": "execute_result"
    }
   ],
   "source": [
    "PPI_Cement.head()"
   ]
  },
  {
   "cell_type": "code",
   "execution_count": 65,
   "metadata": {
    "id": "ScNBTSsOz5rV"
   },
   "outputs": [],
   "source": [
    "# Setting DATE as index, column renaming, setting DATE as index, filtering data from \"2003-09-01\":\"2023-09-01\"\n",
    "\n",
    "PPI_Cement.set_index('DATE', inplace =True)\n",
    "PPI_Cement.rename(columns= {'PCU32733273': 'PPI_Cement'}, inplace =True)\n",
    "PPI_Cement.index = pd.to_datetime(PPI_Cement.index)\n",
    "PPI_Cement = PPI_Cement[\"2003-09-01\":\"2023-09-01\"]"
   ]
  },
  {
   "cell_type": "code",
   "execution_count": 66,
   "metadata": {
    "colab": {
     "base_uri": "https://localhost:8080/"
    },
    "id": "VwNHIwln0LPs",
    "outputId": "a0cdab6b-d0ab-4403-a680-e0388f672140"
   },
   "outputs": [
    {
     "data": {
      "text/plain": [
       "(238, 1)"
      ]
     },
     "execution_count": 66,
     "metadata": {},
     "output_type": "execute_result"
    }
   ],
   "source": [
    "PPI_Cement.shape"
   ]
  },
  {
   "cell_type": "code",
   "execution_count": 67,
   "metadata": {
    "id": "HGR4uKP35YpG"
   },
   "outputs": [],
   "source": [
    "PPI_Cement.to_csv(\"Cleaned data/PPI_Cement.csv\")"
   ]
  },
  {
   "cell_type": "markdown",
   "metadata": {
    "id": "8vnG8nXo0QNM"
   },
   "source": [
    "### Producer Price Index by Industry: Concrete Brick"
   ]
  },
  {
   "cell_type": "code",
   "execution_count": 68,
   "metadata": {
    "id": "NfaqUM5D0OKR"
   },
   "outputs": [],
   "source": [
    "PPI_Concrete = pd.read_csv(\"PCU32733132733106.csv\")"
   ]
  },
  {
   "cell_type": "code",
   "execution_count": 69,
   "metadata": {
    "colab": {
     "base_uri": "https://localhost:8080/",
     "height": 206
    },
    "id": "5DpqKY0l0uJ-",
    "outputId": "6c8b70aa-ece1-482b-8335-05346e985307"
   },
   "outputs": [
    {
     "data": {
      "text/html": [
       "<div>\n",
       "<style scoped>\n",
       "    .dataframe tbody tr th:only-of-type {\n",
       "        vertical-align: middle;\n",
       "    }\n",
       "\n",
       "    .dataframe tbody tr th {\n",
       "        vertical-align: top;\n",
       "    }\n",
       "\n",
       "    .dataframe thead th {\n",
       "        text-align: right;\n",
       "    }\n",
       "</style>\n",
       "<table border=\"1\" class=\"dataframe\">\n",
       "  <thead>\n",
       "    <tr style=\"text-align: right;\">\n",
       "      <th></th>\n",
       "      <th>DATE</th>\n",
       "      <th>PCU32733132733106</th>\n",
       "    </tr>\n",
       "  </thead>\n",
       "  <tbody>\n",
       "    <tr>\n",
       "      <th>0</th>\n",
       "      <td>1981-06-01</td>\n",
       "      <td>100.0</td>\n",
       "    </tr>\n",
       "    <tr>\n",
       "      <th>1</th>\n",
       "      <td>1981-07-01</td>\n",
       "      <td>.</td>\n",
       "    </tr>\n",
       "    <tr>\n",
       "      <th>2</th>\n",
       "      <td>1981-08-01</td>\n",
       "      <td>.</td>\n",
       "    </tr>\n",
       "    <tr>\n",
       "      <th>3</th>\n",
       "      <td>1981-09-01</td>\n",
       "      <td>.</td>\n",
       "    </tr>\n",
       "    <tr>\n",
       "      <th>4</th>\n",
       "      <td>1981-10-01</td>\n",
       "      <td>.</td>\n",
       "    </tr>\n",
       "  </tbody>\n",
       "</table>\n",
       "</div>"
      ],
      "text/plain": [
       "         DATE PCU32733132733106\n",
       "0  1981-06-01             100.0\n",
       "1  1981-07-01                 .\n",
       "2  1981-08-01                 .\n",
       "3  1981-09-01                 .\n",
       "4  1981-10-01                 ."
      ]
     },
     "execution_count": 69,
     "metadata": {},
     "output_type": "execute_result"
    }
   ],
   "source": [
    "PPI_Concrete.head()"
   ]
  },
  {
   "cell_type": "code",
   "execution_count": 70,
   "metadata": {
    "id": "Dxt1iWPu0w8G"
   },
   "outputs": [],
   "source": [
    "# Setting DATE as index, column renaming, setting DATE as index, filtering data from \"2003-09-01\":\"2023-09-01\"\n",
    "\n",
    "PPI_Concrete.set_index('DATE', inplace =True)\n",
    "PPI_Concrete.rename(columns= {'PCU32733132733106': 'PPI_Concrete'}, inplace =True)\n",
    "PPI_Concrete.index = pd.to_datetime(PPI_Concrete.index)\n",
    "PPI_Concrete = PPI_Concrete[\"2003-09-01\":\"2023-09-01\"]"
   ]
  },
  {
   "cell_type": "code",
   "execution_count": 71,
   "metadata": {
    "colab": {
     "base_uri": "https://localhost:8080/"
    },
    "id": "nNo72KzD07uh",
    "outputId": "faa65edf-fc24-4d65-88db-6a8c61dbab7c"
   },
   "outputs": [
    {
     "data": {
      "text/plain": [
       "(241, 1)"
      ]
     },
     "execution_count": 71,
     "metadata": {},
     "output_type": "execute_result"
    }
   ],
   "source": [
    "PPI_Concrete.shape"
   ]
  },
  {
   "cell_type": "code",
   "execution_count": 72,
   "metadata": {
    "id": "25r8RlYf5faO"
   },
   "outputs": [],
   "source": [
    "PPI_Concrete.to_csv(\"Cleaned data/PPI_Concrete.csv\")"
   ]
  },
  {
   "cell_type": "markdown",
   "metadata": {
    "id": "eFmDCOCOP1Xv"
   },
   "source": [
    "### All Employees, Residential Building Construction (Thousands of Peoples)\n",
    "\n",
    "#### Construction employees in the construction sector include: Working supervisors, qualified craft workers, mechanics, apprentices, helpers, laborers, and so forth, engaged in new work, alterations, demolition, repair, maintenance etc."
   ]
  },
  {
   "cell_type": "code",
   "execution_count": 73,
   "metadata": {
    "id": "M29uYZLk0-SF"
   },
   "outputs": [],
   "source": [
    "all_Const_Emp = pd.read_csv(\"CES2023610001.csv\")"
   ]
  },
  {
   "cell_type": "code",
   "execution_count": 74,
   "metadata": {
    "colab": {
     "base_uri": "https://localhost:8080/",
     "height": 206
    },
    "id": "q9Lr1oglQ9Ol",
    "outputId": "974fd4cc-2ccc-4592-f44c-4b200ab577bb"
   },
   "outputs": [
    {
     "data": {
      "text/html": [
       "<div>\n",
       "<style scoped>\n",
       "    .dataframe tbody tr th:only-of-type {\n",
       "        vertical-align: middle;\n",
       "    }\n",
       "\n",
       "    .dataframe tbody tr th {\n",
       "        vertical-align: top;\n",
       "    }\n",
       "\n",
       "    .dataframe thead th {\n",
       "        text-align: right;\n",
       "    }\n",
       "</style>\n",
       "<table border=\"1\" class=\"dataframe\">\n",
       "  <thead>\n",
       "    <tr style=\"text-align: right;\">\n",
       "      <th></th>\n",
       "      <th>DATE</th>\n",
       "      <th>CES2023610001</th>\n",
       "    </tr>\n",
       "  </thead>\n",
       "  <tbody>\n",
       "    <tr>\n",
       "      <th>0</th>\n",
       "      <td>1985-01-01</td>\n",
       "      <td>650.5</td>\n",
       "    </tr>\n",
       "    <tr>\n",
       "      <th>1</th>\n",
       "      <td>1985-02-01</td>\n",
       "      <td>643.4</td>\n",
       "    </tr>\n",
       "    <tr>\n",
       "      <th>2</th>\n",
       "      <td>1985-03-01</td>\n",
       "      <td>651.8</td>\n",
       "    </tr>\n",
       "    <tr>\n",
       "      <th>3</th>\n",
       "      <td>1985-04-01</td>\n",
       "      <td>655.2</td>\n",
       "    </tr>\n",
       "    <tr>\n",
       "      <th>4</th>\n",
       "      <td>1985-05-01</td>\n",
       "      <td>659.8</td>\n",
       "    </tr>\n",
       "  </tbody>\n",
       "</table>\n",
       "</div>"
      ],
      "text/plain": [
       "         DATE  CES2023610001\n",
       "0  1985-01-01          650.5\n",
       "1  1985-02-01          643.4\n",
       "2  1985-03-01          651.8\n",
       "3  1985-04-01          655.2\n",
       "4  1985-05-01          659.8"
      ]
     },
     "execution_count": 74,
     "metadata": {},
     "output_type": "execute_result"
    }
   ],
   "source": [
    "all_Const_Emp.head()"
   ]
  },
  {
   "cell_type": "code",
   "execution_count": 75,
   "metadata": {
    "id": "Ipg1_g9nQ_ko"
   },
   "outputs": [],
   "source": [
    "# Setting DATE as index, column renaming, setting DATE as index, filtering data from \"2003-09-01\":\"2023-09-01\"\n",
    "\n",
    "all_Const_Emp.set_index('DATE', inplace =True)\n",
    "all_Const_Emp.rename(columns= {'CES2023610001': 'all_Const_Emp'}, inplace =True)\n",
    "all_Const_Emp.index = pd.to_datetime(all_Const_Emp.index)\n",
    "all_Const_Emp = all_Const_Emp[\"2003-09-01\":\"2023-09-01\"]"
   ]
  },
  {
   "cell_type": "code",
   "execution_count": 76,
   "metadata": {
    "colab": {
     "base_uri": "https://localhost:8080/"
    },
    "id": "T8_514xrROqP",
    "outputId": "de1a95c4-620c-4e59-ad2d-3aea330b1dd4"
   },
   "outputs": [
    {
     "data": {
      "text/plain": [
       "(241, 1)"
      ]
     },
     "execution_count": 76,
     "metadata": {},
     "output_type": "execute_result"
    }
   ],
   "source": [
    "all_Const_Emp.shape"
   ]
  },
  {
   "cell_type": "code",
   "execution_count": 77,
   "metadata": {
    "id": "8qeVRg5c5lFs"
   },
   "outputs": [],
   "source": [
    "all_Const_Emp.to_csv(\"Cleaned data/all_Const_Emp.csv\")"
   ]
  },
  {
   "cell_type": "markdown",
   "metadata": {
    "id": "6tYVibNbRXTh"
   },
   "source": [
    "### All Employees, Construction (Thousands of persons)\n",
    "\n",
    "#### Construction employees in the construction sector include: Working supervisors, qualified craft workers, mechanics, apprentices, helpers, laborers, and so forth, engaged in new work, alterations, demolition, repair, maintenance."
   ]
  },
  {
   "cell_type": "code",
   "execution_count": 78,
   "metadata": {
    "id": "taC6xogCRUMp"
   },
   "outputs": [],
   "source": [
    "total_emp_cons = pd.read_csv(\"USCONS.csv\")"
   ]
  },
  {
   "cell_type": "code",
   "execution_count": 79,
   "metadata": {
    "colab": {
     "base_uri": "https://localhost:8080/",
     "height": 206
    },
    "id": "rk2iRcuBSZ2K",
    "outputId": "806c14b6-1d8e-4194-d960-df40b234ca93"
   },
   "outputs": [
    {
     "data": {
      "text/html": [
       "<div>\n",
       "<style scoped>\n",
       "    .dataframe tbody tr th:only-of-type {\n",
       "        vertical-align: middle;\n",
       "    }\n",
       "\n",
       "    .dataframe tbody tr th {\n",
       "        vertical-align: top;\n",
       "    }\n",
       "\n",
       "    .dataframe thead th {\n",
       "        text-align: right;\n",
       "    }\n",
       "</style>\n",
       "<table border=\"1\" class=\"dataframe\">\n",
       "  <thead>\n",
       "    <tr style=\"text-align: right;\">\n",
       "      <th></th>\n",
       "      <th>DATE</th>\n",
       "      <th>USCONS</th>\n",
       "    </tr>\n",
       "  </thead>\n",
       "  <tbody>\n",
       "    <tr>\n",
       "      <th>0</th>\n",
       "      <td>1939-01-01</td>\n",
       "      <td>1139</td>\n",
       "    </tr>\n",
       "    <tr>\n",
       "      <th>1</th>\n",
       "      <td>1939-02-01</td>\n",
       "      <td>1162</td>\n",
       "    </tr>\n",
       "    <tr>\n",
       "      <th>2</th>\n",
       "      <td>1939-03-01</td>\n",
       "      <td>1225</td>\n",
       "    </tr>\n",
       "    <tr>\n",
       "      <th>3</th>\n",
       "      <td>1939-04-01</td>\n",
       "      <td>1249</td>\n",
       "    </tr>\n",
       "    <tr>\n",
       "      <th>4</th>\n",
       "      <td>1939-05-01</td>\n",
       "      <td>1262</td>\n",
       "    </tr>\n",
       "  </tbody>\n",
       "</table>\n",
       "</div>"
      ],
      "text/plain": [
       "         DATE  USCONS\n",
       "0  1939-01-01    1139\n",
       "1  1939-02-01    1162\n",
       "2  1939-03-01    1225\n",
       "3  1939-04-01    1249\n",
       "4  1939-05-01    1262"
      ]
     },
     "execution_count": 79,
     "metadata": {},
     "output_type": "execute_result"
    }
   ],
   "source": [
    "total_emp_cons.head()"
   ]
  },
  {
   "cell_type": "code",
   "execution_count": 80,
   "metadata": {
    "id": "4iT8v9jQScBW"
   },
   "outputs": [],
   "source": [
    "# Setting DATE as index, column renaming, setting DATE as index, filtering data from \"2003-09-01\":\"2023-09-01\"\n",
    "total_emp_cons.set_index('DATE', inplace =True)\n",
    "total_emp_cons.rename(columns= {'USCONS': 'total_emp_cons'}, inplace =True)\n",
    "total_emp_cons.index = pd.to_datetime(total_emp_cons.index)\n",
    "total_emp_cons = total_emp_cons[\"2003-09-01\":\"2023-09-01\"]"
   ]
  },
  {
   "cell_type": "code",
   "execution_count": 81,
   "metadata": {
    "colab": {
     "base_uri": "https://localhost:8080/"
    },
    "id": "eZOs_TyjSgvm",
    "outputId": "912baa24-81cd-4358-976d-8086611ba0f2"
   },
   "outputs": [
    {
     "data": {
      "text/plain": [
       "(241, 1)"
      ]
     },
     "execution_count": 81,
     "metadata": {},
     "output_type": "execute_result"
    }
   ],
   "source": [
    "total_emp_cons.shape"
   ]
  },
  {
   "cell_type": "code",
   "execution_count": 82,
   "metadata": {
    "id": "W02ABuvN5uv_"
   },
   "outputs": [],
   "source": [
    "total_emp_cons.to_csv(\"Cleaned data/total_emp_cons.csv\")"
   ]
  },
  {
   "cell_type": "markdown",
   "metadata": {
    "id": "1f3tMTwGS0ub"
   },
   "source": [
    "### Industrial Production: Cement\n",
    "\n",
    "#### The industrial production (IP) index measures the real output of all relevant establishments located in the United States"
   ]
  },
  {
   "cell_type": "code",
   "execution_count": 83,
   "metadata": {
    "id": "gdk1u7dBSy0-"
   },
   "outputs": [],
   "source": [
    "IPI_Cement = pd.read_csv(\"IPN32731S.csv\")"
   ]
  },
  {
   "cell_type": "code",
   "execution_count": 84,
   "metadata": {
    "colab": {
     "base_uri": "https://localhost:8080/",
     "height": 206
    },
    "id": "e9kSR_nZsjH0",
    "outputId": "d2e12ae1-7394-420e-fe10-d714ac2f41a8"
   },
   "outputs": [
    {
     "data": {
      "text/html": [
       "<div>\n",
       "<style scoped>\n",
       "    .dataframe tbody tr th:only-of-type {\n",
       "        vertical-align: middle;\n",
       "    }\n",
       "\n",
       "    .dataframe tbody tr th {\n",
       "        vertical-align: top;\n",
       "    }\n",
       "\n",
       "    .dataframe thead th {\n",
       "        text-align: right;\n",
       "    }\n",
       "</style>\n",
       "<table border=\"1\" class=\"dataframe\">\n",
       "  <thead>\n",
       "    <tr style=\"text-align: right;\">\n",
       "      <th></th>\n",
       "      <th>DATE</th>\n",
       "      <th>IPN32731S</th>\n",
       "    </tr>\n",
       "  </thead>\n",
       "  <tbody>\n",
       "    <tr>\n",
       "      <th>0</th>\n",
       "      <td>1972-01-01</td>\n",
       "      <td>144.6423</td>\n",
       "    </tr>\n",
       "    <tr>\n",
       "      <th>1</th>\n",
       "      <td>1972-02-01</td>\n",
       "      <td>138.8505</td>\n",
       "    </tr>\n",
       "    <tr>\n",
       "      <th>2</th>\n",
       "      <td>1972-03-01</td>\n",
       "      <td>137.9965</td>\n",
       "    </tr>\n",
       "    <tr>\n",
       "      <th>3</th>\n",
       "      <td>1972-04-01</td>\n",
       "      <td>139.3841</td>\n",
       "    </tr>\n",
       "    <tr>\n",
       "      <th>4</th>\n",
       "      <td>1972-05-01</td>\n",
       "      <td>136.9861</td>\n",
       "    </tr>\n",
       "  </tbody>\n",
       "</table>\n",
       "</div>"
      ],
      "text/plain": [
       "         DATE  IPN32731S\n",
       "0  1972-01-01   144.6423\n",
       "1  1972-02-01   138.8505\n",
       "2  1972-03-01   137.9965\n",
       "3  1972-04-01   139.3841\n",
       "4  1972-05-01   136.9861"
      ]
     },
     "execution_count": 84,
     "metadata": {},
     "output_type": "execute_result"
    }
   ],
   "source": [
    "IPI_Cement.head()"
   ]
  },
  {
   "cell_type": "code",
   "execution_count": 85,
   "metadata": {
    "id": "lapckgumsoR9"
   },
   "outputs": [],
   "source": [
    "# Setting DATE as index, column renaming, setting DATE as index, filtering data from \"2003-09-01\":\"2023-09-01\"\n",
    "\n",
    "IPI_Cement.set_index('DATE', inplace =True)\n",
    "IPI_Cement.rename(columns= {'IPN32731S': 'IPI_Cement'}, inplace =True)\n",
    "IPI_Cement.index = pd.to_datetime(IPI_Cement.index)\n",
    "IPI_Cement = IPI_Cement[\"2003-09-01\":\"2023-09-01\"]"
   ]
  },
  {
   "cell_type": "code",
   "execution_count": 86,
   "metadata": {
    "colab": {
     "base_uri": "https://localhost:8080/"
    },
    "id": "6LPetklvs0Kt",
    "outputId": "2bf0625c-4fdb-481f-b6eb-9d3ab1d99b73"
   },
   "outputs": [
    {
     "data": {
      "text/plain": [
       "(240, 1)"
      ]
     },
     "execution_count": 86,
     "metadata": {},
     "output_type": "execute_result"
    }
   ],
   "source": [
    "IPI_Cement.shape"
   ]
  },
  {
   "cell_type": "code",
   "execution_count": 87,
   "metadata": {
    "id": "3T8tvygF55XI"
   },
   "outputs": [],
   "source": [
    "IPI_Cement.to_csv(\"Cleaned data/IPI_Cement.csv\")"
   ]
  },
  {
   "cell_type": "markdown",
   "metadata": {
    "id": "4euFyIR4s3vI"
   },
   "source": [
    "### Homeownership Rate (Percentage)\n",
    "\n",
    "#### The homeownership rate is the proportion of households that is owner-occupied."
   ]
  },
  {
   "cell_type": "code",
   "execution_count": 88,
   "metadata": {
    "id": "nrFWqaaDs2jj"
   },
   "outputs": [],
   "source": [
    "home_ow_rate = pd.read_csv(\"RSAHORUSQ156S.csv\")"
   ]
  },
  {
   "cell_type": "code",
   "execution_count": 89,
   "metadata": {
    "colab": {
     "base_uri": "https://localhost:8080/",
     "height": 206
    },
    "id": "jf4HLi2TtUmB",
    "outputId": "660d62e1-4c7c-4fbd-b2a8-dbc9b4c47929"
   },
   "outputs": [
    {
     "data": {
      "text/html": [
       "<div>\n",
       "<style scoped>\n",
       "    .dataframe tbody tr th:only-of-type {\n",
       "        vertical-align: middle;\n",
       "    }\n",
       "\n",
       "    .dataframe tbody tr th {\n",
       "        vertical-align: top;\n",
       "    }\n",
       "\n",
       "    .dataframe thead th {\n",
       "        text-align: right;\n",
       "    }\n",
       "</style>\n",
       "<table border=\"1\" class=\"dataframe\">\n",
       "  <thead>\n",
       "    <tr style=\"text-align: right;\">\n",
       "      <th></th>\n",
       "      <th>DATE</th>\n",
       "      <th>RSAHORUSQ156S</th>\n",
       "    </tr>\n",
       "  </thead>\n",
       "  <tbody>\n",
       "    <tr>\n",
       "      <th>0</th>\n",
       "      <td>1980-01-01</td>\n",
       "      <td>65.5</td>\n",
       "    </tr>\n",
       "    <tr>\n",
       "      <th>1</th>\n",
       "      <td>1980-04-01</td>\n",
       "      <td>65.6</td>\n",
       "    </tr>\n",
       "    <tr>\n",
       "      <th>2</th>\n",
       "      <td>1980-07-01</td>\n",
       "      <td>65.6</td>\n",
       "    </tr>\n",
       "    <tr>\n",
       "      <th>3</th>\n",
       "      <td>1980-10-01</td>\n",
       "      <td>65.6</td>\n",
       "    </tr>\n",
       "    <tr>\n",
       "      <th>4</th>\n",
       "      <td>1981-01-01</td>\n",
       "      <td>65.6</td>\n",
       "    </tr>\n",
       "  </tbody>\n",
       "</table>\n",
       "</div>"
      ],
      "text/plain": [
       "         DATE  RSAHORUSQ156S\n",
       "0  1980-01-01           65.5\n",
       "1  1980-04-01           65.6\n",
       "2  1980-07-01           65.6\n",
       "3  1980-10-01           65.6\n",
       "4  1981-01-01           65.6"
      ]
     },
     "execution_count": 89,
     "metadata": {},
     "output_type": "execute_result"
    }
   ],
   "source": [
    "home_ow_rate.head()"
   ]
  },
  {
   "cell_type": "code",
   "execution_count": 90,
   "metadata": {
    "id": "NaWT3KR6tW_q"
   },
   "outputs": [],
   "source": [
    "# Setting DATE as index, column renaming, setting DATE as index, filtering data from \"2003-09-01\":\"2023-09-01\"\n",
    "\n",
    "home_ow_rate.set_index('DATE', inplace =True)\n",
    "home_ow_rate.index = pd.to_datetime(home_ow_rate.index)\n",
    "home_ow_rate.rename(columns= {'RSAHORUSQ156S': 'home_ow_rate'}, inplace =True)\n",
    "\n",
    "# Resampling\n",
    "home_ow_rate = home_ow_rate.resample('M').ffill()\n",
    "\n",
    "# # Set the day of the index to 1\n",
    "home_ow_rate.index = home_ow_rate.index.map(lambda x: x.replace(day=1))\n",
    "home_ow_rate = home_ow_rate[\"2003-09-01\":\"2023-09-01\"]"
   ]
  },
  {
   "cell_type": "code",
   "execution_count": 91,
   "metadata": {
    "colab": {
     "base_uri": "https://localhost:8080/"
    },
    "id": "7rvSW-7Ct8nB",
    "outputId": "383b1d2a-1222-45ac-fcd8-19ccc4dc1d19"
   },
   "outputs": [
    {
     "data": {
      "text/plain": [
       "(239, 1)"
      ]
     },
     "execution_count": 91,
     "metadata": {},
     "output_type": "execute_result"
    }
   ],
   "source": [
    "home_ow_rate.shape"
   ]
  },
  {
   "cell_type": "code",
   "execution_count": 92,
   "metadata": {
    "id": "DUSw3V0b6B7P"
   },
   "outputs": [],
   "source": [
    "home_ow_rate.to_csv(\"Cleaned data/home_ow_rate.csv\")"
   ]
  },
  {
   "cell_type": "markdown",
   "metadata": {
    "id": "TjdJove3uBKr"
   },
   "source": [
    "### Personal Saving Rate (Percent)\n",
    "\n",
    "#### Personal saving as a percentage of disposable personal income (DPI), frequently referred to as \"the personal saving rate,\" is calculated as the ratio of personal saving to DPI. Personal income that is used either to provide funds to capital markets or to invest in real assets such as residences."
   ]
  },
  {
   "cell_type": "code",
   "execution_count": 93,
   "metadata": {
    "id": "N8FATJyFt-3d"
   },
   "outputs": [],
   "source": [
    "p_saving_rate =pd.read_csv(\"PSAVERT.csv\")"
   ]
  },
  {
   "cell_type": "code",
   "execution_count": 94,
   "metadata": {
    "colab": {
     "base_uri": "https://localhost:8080/",
     "height": 206
    },
    "id": "ajJXYw89u-ln",
    "outputId": "d5bede76-bd40-4c50-e0e6-95d692cbb00f"
   },
   "outputs": [
    {
     "data": {
      "text/html": [
       "<div>\n",
       "<style scoped>\n",
       "    .dataframe tbody tr th:only-of-type {\n",
       "        vertical-align: middle;\n",
       "    }\n",
       "\n",
       "    .dataframe tbody tr th {\n",
       "        vertical-align: top;\n",
       "    }\n",
       "\n",
       "    .dataframe thead th {\n",
       "        text-align: right;\n",
       "    }\n",
       "</style>\n",
       "<table border=\"1\" class=\"dataframe\">\n",
       "  <thead>\n",
       "    <tr style=\"text-align: right;\">\n",
       "      <th></th>\n",
       "      <th>DATE</th>\n",
       "      <th>PSAVERT</th>\n",
       "    </tr>\n",
       "  </thead>\n",
       "  <tbody>\n",
       "    <tr>\n",
       "      <th>0</th>\n",
       "      <td>1959-01-01</td>\n",
       "      <td>11.3</td>\n",
       "    </tr>\n",
       "    <tr>\n",
       "      <th>1</th>\n",
       "      <td>1959-02-01</td>\n",
       "      <td>10.6</td>\n",
       "    </tr>\n",
       "    <tr>\n",
       "      <th>2</th>\n",
       "      <td>1959-03-01</td>\n",
       "      <td>10.3</td>\n",
       "    </tr>\n",
       "    <tr>\n",
       "      <th>3</th>\n",
       "      <td>1959-04-01</td>\n",
       "      <td>11.2</td>\n",
       "    </tr>\n",
       "    <tr>\n",
       "      <th>4</th>\n",
       "      <td>1959-05-01</td>\n",
       "      <td>10.6</td>\n",
       "    </tr>\n",
       "  </tbody>\n",
       "</table>\n",
       "</div>"
      ],
      "text/plain": [
       "         DATE  PSAVERT\n",
       "0  1959-01-01     11.3\n",
       "1  1959-02-01     10.6\n",
       "2  1959-03-01     10.3\n",
       "3  1959-04-01     11.2\n",
       "4  1959-05-01     10.6"
      ]
     },
     "execution_count": 94,
     "metadata": {},
     "output_type": "execute_result"
    }
   ],
   "source": [
    "p_saving_rate.head()"
   ]
  },
  {
   "cell_type": "code",
   "execution_count": 95,
   "metadata": {
    "id": "L640ZpGuvAww"
   },
   "outputs": [],
   "source": [
    "# Setting DATE as index, column renaming, setting DATE as index, filtering data from \"2003-09-01\":\"2023-09-01\"\n",
    "\n",
    "p_saving_rate.set_index('DATE', inplace =True)\n",
    "p_saving_rate.rename(columns= {'PSAVERT': 'p_saving_rate'}, inplace =True)\n",
    "p_saving_rate.index = pd.to_datetime(p_saving_rate.index)\n",
    "p_saving_rate = p_saving_rate[\"2003-09-01\":\"2023-09-01\"]"
   ]
  },
  {
   "cell_type": "code",
   "execution_count": 96,
   "metadata": {
    "colab": {
     "base_uri": "https://localhost:8080/"
    },
    "id": "aFah03gnvbiV",
    "outputId": "0c9c24ea-e44a-4612-9b80-ecd02d27534c"
   },
   "outputs": [
    {
     "data": {
      "text/plain": [
       "(241, 1)"
      ]
     },
     "execution_count": 96,
     "metadata": {},
     "output_type": "execute_result"
    }
   ],
   "source": [
    "p_saving_rate.shape"
   ]
  },
  {
   "cell_type": "code",
   "execution_count": 97,
   "metadata": {
    "id": "EtdNSgGz6KoW"
   },
   "outputs": [],
   "source": [
    "p_saving_rate.to_csv(\"Cleaned data/p_saving_rate.csv\")"
   ]
  },
  {
   "cell_type": "markdown",
   "metadata": {
    "id": "jnE9eN7Cvjcz"
   },
   "source": [
    "### New Privately-Owned Housing Construction Completed: (Total units in thousands)"
   ]
  },
  {
   "cell_type": "code",
   "execution_count": 98,
   "metadata": {
    "id": "P7nHYBiovem8"
   },
   "outputs": [],
   "source": [
    "new_private_house = pd.read_csv(\"COMPUTSA.csv\")"
   ]
  },
  {
   "cell_type": "code",
   "execution_count": 99,
   "metadata": {
    "colab": {
     "base_uri": "https://localhost:8080/",
     "height": 206
    },
    "id": "8_THfy66waf6",
    "outputId": "746f5e5b-d134-48f7-d27e-6371f04268cc"
   },
   "outputs": [
    {
     "data": {
      "text/html": [
       "<div>\n",
       "<style scoped>\n",
       "    .dataframe tbody tr th:only-of-type {\n",
       "        vertical-align: middle;\n",
       "    }\n",
       "\n",
       "    .dataframe tbody tr th {\n",
       "        vertical-align: top;\n",
       "    }\n",
       "\n",
       "    .dataframe thead th {\n",
       "        text-align: right;\n",
       "    }\n",
       "</style>\n",
       "<table border=\"1\" class=\"dataframe\">\n",
       "  <thead>\n",
       "    <tr style=\"text-align: right;\">\n",
       "      <th></th>\n",
       "      <th>DATE</th>\n",
       "      <th>COMPUTSA</th>\n",
       "    </tr>\n",
       "  </thead>\n",
       "  <tbody>\n",
       "    <tr>\n",
       "      <th>0</th>\n",
       "      <td>1968-01-01</td>\n",
       "      <td>1257.0</td>\n",
       "    </tr>\n",
       "    <tr>\n",
       "      <th>1</th>\n",
       "      <td>1968-02-01</td>\n",
       "      <td>1174.0</td>\n",
       "    </tr>\n",
       "    <tr>\n",
       "      <th>2</th>\n",
       "      <td>1968-03-01</td>\n",
       "      <td>1323.0</td>\n",
       "    </tr>\n",
       "    <tr>\n",
       "      <th>3</th>\n",
       "      <td>1968-04-01</td>\n",
       "      <td>1328.0</td>\n",
       "    </tr>\n",
       "    <tr>\n",
       "      <th>4</th>\n",
       "      <td>1968-05-01</td>\n",
       "      <td>1367.0</td>\n",
       "    </tr>\n",
       "  </tbody>\n",
       "</table>\n",
       "</div>"
      ],
      "text/plain": [
       "         DATE  COMPUTSA\n",
       "0  1968-01-01    1257.0\n",
       "1  1968-02-01    1174.0\n",
       "2  1968-03-01    1323.0\n",
       "3  1968-04-01    1328.0\n",
       "4  1968-05-01    1367.0"
      ]
     },
     "execution_count": 99,
     "metadata": {},
     "output_type": "execute_result"
    }
   ],
   "source": [
    "new_private_house.head()"
   ]
  },
  {
   "cell_type": "code",
   "execution_count": 100,
   "metadata": {
    "id": "F_e82FzVwccz"
   },
   "outputs": [],
   "source": [
    "# Setting DATE as index, column renaming, setting DATE as index, filtering data from \"2003-09-01\":\"2023-09-01\"\n",
    "\n",
    "new_private_house.set_index('DATE', inplace =True)\n",
    "new_private_house.rename(columns= {'COMPUTSA': 'new_private_house'}, inplace =True)\n",
    "new_private_house.index = pd.to_datetime(new_private_house.index)\n",
    "new_private_house = new_private_house[\"2003-09-01\":\"2023-09-01\"]"
   ]
  },
  {
   "cell_type": "code",
   "execution_count": 101,
   "metadata": {
    "colab": {
     "base_uri": "https://localhost:8080/"
    },
    "id": "pLbdW7Xbwz_f",
    "outputId": "5b8d1f53-64ae-43cc-c668-e7a63316238b"
   },
   "outputs": [
    {
     "data": {
      "text/plain": [
       "(241, 1)"
      ]
     },
     "execution_count": 101,
     "metadata": {},
     "output_type": "execute_result"
    }
   ],
   "source": [
    "new_private_house.shape"
   ]
  },
  {
   "cell_type": "code",
   "execution_count": 102,
   "metadata": {
    "id": "wibs_YDn6SBj"
   },
   "outputs": [],
   "source": [
    "new_private_house.to_csv(\"Cleaned data/new_private_house.csv\")"
   ]
  },
  {
   "cell_type": "markdown",
   "metadata": {
    "id": "6dy9-GEVw5ib"
   },
   "source": [
    "### New Privately-Owned Housing Units Under Construction: Total Units in thousands"
   ]
  },
  {
   "cell_type": "code",
   "execution_count": 103,
   "metadata": {
    "id": "215fkKvbw3bi"
   },
   "outputs": [],
   "source": [
    "new_private_hw_under = pd.read_csv(\"UNDCONTSA.csv\")"
   ]
  },
  {
   "cell_type": "code",
   "execution_count": 104,
   "metadata": {
    "colab": {
     "base_uri": "https://localhost:8080/",
     "height": 206
    },
    "id": "dov9NjY0xlVm",
    "outputId": "25350a59-37d5-4e53-b45a-7a32f3b5ebb9"
   },
   "outputs": [
    {
     "data": {
      "text/html": [
       "<div>\n",
       "<style scoped>\n",
       "    .dataframe tbody tr th:only-of-type {\n",
       "        vertical-align: middle;\n",
       "    }\n",
       "\n",
       "    .dataframe tbody tr th {\n",
       "        vertical-align: top;\n",
       "    }\n",
       "\n",
       "    .dataframe thead th {\n",
       "        text-align: right;\n",
       "    }\n",
       "</style>\n",
       "<table border=\"1\" class=\"dataframe\">\n",
       "  <thead>\n",
       "    <tr style=\"text-align: right;\">\n",
       "      <th></th>\n",
       "      <th>DATE</th>\n",
       "      <th>UNDCONTSA</th>\n",
       "    </tr>\n",
       "  </thead>\n",
       "  <tbody>\n",
       "    <tr>\n",
       "      <th>0</th>\n",
       "      <td>1970-01-01</td>\n",
       "      <td>889.0</td>\n",
       "    </tr>\n",
       "    <tr>\n",
       "      <th>1</th>\n",
       "      <td>1970-02-01</td>\n",
       "      <td>888.0</td>\n",
       "    </tr>\n",
       "    <tr>\n",
       "      <th>2</th>\n",
       "      <td>1970-03-01</td>\n",
       "      <td>890.0</td>\n",
       "    </tr>\n",
       "    <tr>\n",
       "      <th>3</th>\n",
       "      <td>1970-04-01</td>\n",
       "      <td>891.0</td>\n",
       "    </tr>\n",
       "    <tr>\n",
       "      <th>4</th>\n",
       "      <td>1970-05-01</td>\n",
       "      <td>883.0</td>\n",
       "    </tr>\n",
       "  </tbody>\n",
       "</table>\n",
       "</div>"
      ],
      "text/plain": [
       "         DATE  UNDCONTSA\n",
       "0  1970-01-01      889.0\n",
       "1  1970-02-01      888.0\n",
       "2  1970-03-01      890.0\n",
       "3  1970-04-01      891.0\n",
       "4  1970-05-01      883.0"
      ]
     },
     "execution_count": 104,
     "metadata": {},
     "output_type": "execute_result"
    }
   ],
   "source": [
    "new_private_hw_under.head()"
   ]
  },
  {
   "cell_type": "code",
   "execution_count": 105,
   "metadata": {
    "id": "FWGHquzsxne7"
   },
   "outputs": [],
   "source": [
    "# Setting DATE as index, column renaming, setting DATE as index, filtering data from \"2003-09-01\":\"2023-09-01\"\n",
    "\n",
    "new_private_hw_under.set_index('DATE', inplace =True)\n",
    "new_private_hw_under.rename(columns= {'UNDCONTSA': 'new_private_hw_under'}, inplace =True)\n",
    "new_private_hw_under.index = pd.to_datetime(new_private_hw_under.index)\n",
    "new_private_hw_under = new_private_hw_under[\"2003-09-01\":\"2023-09-01\"]"
   ]
  },
  {
   "cell_type": "code",
   "execution_count": 106,
   "metadata": {
    "colab": {
     "base_uri": "https://localhost:8080/"
    },
    "id": "DA8C8XV7xytq",
    "outputId": "37e32395-5580-4c3b-aa2f-1ac8e69bfc22"
   },
   "outputs": [
    {
     "data": {
      "text/plain": [
       "(241, 1)"
      ]
     },
     "execution_count": 106,
     "metadata": {},
     "output_type": "execute_result"
    }
   ],
   "source": [
    "new_private_hw_under.shape"
   ]
  },
  {
   "cell_type": "code",
   "execution_count": 107,
   "metadata": {
    "id": "OiTkkb2nx1EL"
   },
   "outputs": [],
   "source": [
    "new_private_hw_under.to_csv(\"Cleaned data/new_private_hw_under.csv\")"
   ]
  },
  {
   "cell_type": "code",
   "execution_count": null,
   "metadata": {},
   "outputs": [],
   "source": []
  }
 ],
 "metadata": {
  "colab": {
   "provenance": [],
   "toc_visible": true
  },
  "kernelspec": {
   "display_name": "Python 3 (ipykernel)",
   "language": "python",
   "name": "python3"
  },
  "language_info": {
   "codemirror_mode": {
    "name": "ipython",
    "version": 3
   },
   "file_extension": ".py",
   "mimetype": "text/x-python",
   "name": "python",
   "nbconvert_exporter": "python",
   "pygments_lexer": "ipython3",
   "version": "3.9.12"
  }
 },
 "nbformat": 4,
 "nbformat_minor": 1
}
